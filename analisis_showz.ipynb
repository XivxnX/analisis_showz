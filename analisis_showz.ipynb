{
 "cells": [
  {
   "cell_type": "markdown",
   "id": "32de95bb",
   "metadata": {},
   "source": [
    "# Análisis para Showz\n",
    "\n",
    "Showz es una empresa de <span style=\"color: gold;\">**venta de entradas de eventos.**</span>\n",
    "\n",
    "## Objetivo:\n",
    "Optimizar los gastos del departamento de marketing\n",
    "\n",
    "### Objetivos específicos:\n",
    "- Identificar cómo los clientes usan el servicio\n",
    "\n",
    "- Cuándo empiezan a comprar\n",
    "\n",
    "- Cuánto dinero aporta cada cliente a la compañía (LTV)\n",
    "\n",
    "- Cuándo los ingresos cubren el costo de adquisición de los clientes (ROM"
   ]
  },
  {
   "cell_type": "markdown",
   "id": "3c42e13c",
   "metadata": {},
   "source": [
    "## Pasos a seguir\n",
    "1) Preparación de datos (cargar y limpiar datos)\n",
    "2) Elaborar informes (gráficos para diferentes dispositivos y fuentes de anuncios y cambio con el tiempo)\n",
    "\n",
    "    **Informe de visitas**\n",
    "    * Calcular el DAU, WAU y MAU\n",
    "    * Sesiones por día\n",
    "    * Duración de la sesión (ASL)\n",
    "    * Tasa de retención\n",
    "\n",
    "    **Informe de ventas**\n",
    "\t* Tiempo entre el registro y la conversión\n",
    "\t* Número de pedidos durante un periodo\n",
    "\t* Tamaño promedio de compra\n",
    "\t* LTV\n",
    "\n",
    "    **Informe de marketing**\n",
    "    * ¿Cuánto dinero se gastó?\n",
    "    * Costo de adquisición de clientes (CAC) para cada fuente\n",
    "    * Rentabilidad de la inversión (ROMI)\n",
    "\n",
    "3) Conclusión sobre la inversión en marketing:\n",
    "* ¿Qué fuentes/plataformas recomendarías?\n",
    "* ¿en qué métricas te enfocaste? ¿Por qué?\n",
    "* ¿Qué conclusiones sacaste después de encontrar los valores métricos?"
   ]
  }
 ],
 "metadata": {
  "language_info": {
   "name": "python"
  }
 },
 "nbformat": 4,
 "nbformat_minor": 5
}
