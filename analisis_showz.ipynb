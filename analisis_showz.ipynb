{
 "cells": [
  {
   "cell_type": "markdown",
   "id": "32de95bb",
   "metadata": {},
   "source": [
    "# Análisis para Showz\n",
    "\n",
    "Showz es una empresa de <span style=\"color: gold;\">**venta de entradas de eventos.**</span>\n",
    "\n",
    "## Objetivo:\n",
    "Optimizar los gastos del departamento de marketing\n",
    "\n",
    "### Objetivos específicos:\n",
    "- Identificar cómo los clientes usan el servicio\n",
    "\n",
    "- Cuándo empiezan a comprar\n",
    "\n",
    "- Cuánto dinero aporta cada cliente a la compañía (LTV)\n",
    "\n",
    "- Cuándo los ingresos cubren el costo de adquisición de los clientes (ROM"
   ]
  },
  {
   "cell_type": "markdown",
   "id": "3c42e13c",
   "metadata": {},
   "source": [
    "## Pasos a seguir\n",
    "1) Preparación de datos (cargar y limpiar datos)\n",
    "2) Elaborar informes (gráficos para diferentes dispositivos y fuentes de anuncios y cambio con el tiempo)\n",
    "\n",
    "    **Informe de visitas**\n",
    "    * Calcular el DAU, WAU y MAU\n",
    "    * Sesiones por día\n",
    "    * Duración de la sesión (ASL)\n",
    "    * Tasa de retención\n",
    "\n",
    "    **Informe de ventas**\n",
    "\t* Tiempo entre el registro y la conversión\n",
    "\t* Número de pedidos durante un periodo\n",
    "\t* Tamaño promedio de compra\n",
    "\t* LTV\n",
    "\n",
    "    **Informe de marketing**\n",
    "    * ¿Cuánto dinero se gastó?\n",
    "    * Costo de adquisición de clientes (CAC) para cada fuente\n",
    "    * Rentabilidad de la inversión (ROMI)\n",
    "\n",
    "3) Conclusión sobre la inversión en marketing:\n",
    "* ¿Qué fuentes/plataformas recomendarías?\n",
    "* ¿en qué métricas te enfocaste? ¿Por qué?\n",
    "* ¿Qué conclusiones sacaste después de encontrar los valores métricos?"
   ]
  },
  {
   "cell_type": "markdown",
   "id": "054b409e",
   "metadata": {},
   "source": [
    "## Diccionario de datos\n",
    "**Visits** (registros de visitas al sitio web)\n",
    "* ``uid``: identificador único del usuario\n",
    "* ``device``: dispositivo del usuario\n",
    "* ``start ts``: fecha y hora de inicio de la sesión\n",
    "* ``end ts``: fecha y hora de término de la sesión\n",
    "* ``source id``: identificador de la fuente de anuncios de la que proviene el usuario\n",
    "\n",
    "**Orders** (pedidos)\n",
    "* ``uid``: identificador único del usuario que realiza un pedido\n",
    "* ``buy ts``: fecha y hora del pedido\n",
    "* ``revenue``: el ingreso de Showz por el pedido\n",
    "\n",
    "**Costs** (gastos de marketing)\n",
    "* ``source_id``: identificador de la fuente de anuncios\n",
    "* ``dt``: fecha\n",
    "* ``costs``: gastos en esta fuente de anuncios en este día"
   ]
  },
  {
   "cell_type": "code",
   "execution_count": null,
   "id": "e3ef5e2b",
   "metadata": {},
   "outputs": [],
   "source": [
    "# importar librerías\n",
    "import pandas as pd\n",
    "import numpy as np\n",
    "import matplotlib.pyplot as plt\n",
    "import seaborn as sns"
   ]
  },
  {
   "cell_type": "markdown",
   "id": "2e5578b2",
   "metadata": {},
   "source": [
    "# Visualización general de los datos"
   ]
  },
  {
   "cell_type": "code",
   "execution_count": null,
   "id": "2ee1bc09",
   "metadata": {},
   "outputs": [],
   "source": [
    "# importar los datasets\n",
    "visits = pd.read_csv('visits_log_us.csv')\n",
    "orders = pd.read_csv('orders_log_us.csv')\n",
    "costs = pd.read_csv('costs_us.csv')"
   ]
  },
  {
   "cell_type": "code",
   "execution_count": null,
   "id": "596ad6df",
   "metadata": {},
   "outputs": [
    {
     "name": "stdout",
     "output_type": "stream",
     "text": [
      "<class 'pandas.core.frame.DataFrame'>\n",
      "RangeIndex: 359400 entries, 0 to 359399\n",
      "Data columns (total 5 columns):\n",
      " #   Column     Non-Null Count   Dtype \n",
      "---  ------     --------------   ----- \n",
      " 0   Device     359400 non-null  object\n",
      " 1   End Ts     359400 non-null  object\n",
      " 2   Source Id  359400 non-null  int64 \n",
      " 3   Start Ts   359400 non-null  object\n",
      " 4   Uid        359400 non-null  uint64\n",
      "dtypes: int64(1), object(3), uint64(1)\n",
      "memory usage: 13.7+ MB\n",
      "\n",
      "          Device               End Ts  Source Id             Start Ts  \\\n",
      "97140   desktop  2017-07-03 15:58:00          1  2017-07-03 15:51:00   \n",
      "181238  desktop  2017-10-18 00:59:00          2  2017-10-18 00:59:00   \n",
      "260631  desktop  2017-11-06 11:40:00          4  2017-11-06 11:34:00   \n",
      "21638     touch  2018-03-11 13:17:00          4  2018-03-11 13:00:00   \n",
      "297819    touch  2018-01-22 21:09:00          3  2018-01-22 21:06:00   \n",
      "\n",
      "                         Uid  \n",
      "97140   10478802796828998103  \n",
      "181238  10842769217004303202  \n",
      "260631  17389658001554228651  \n",
      "21638   17966110109771950787  \n",
      "297819    848648030039135902  \n",
      "\n",
      " Hay 0 valores duplicados\n"
     ]
    }
   ],
   "source": [
    "# información de 'visits'\n",
    "visits.info()\n",
    "print('\\n', visits.sample(5))\n",
    "print('\\n', 'Hay', visits.duplicated().sum(), 'valores duplicados')"
   ]
  },
  {
   "cell_type": "code",
   "execution_count": null,
   "id": "2d7834da",
   "metadata": {},
   "outputs": [
    {
     "name": "stdout",
     "output_type": "stream",
     "text": [
      "<class 'pandas.core.frame.DataFrame'>\n",
      "RangeIndex: 50415 entries, 0 to 50414\n",
      "Data columns (total 3 columns):\n",
      " #   Column   Non-Null Count  Dtype  \n",
      "---  ------   --------------  -----  \n",
      " 0   Buy Ts   50415 non-null  object \n",
      " 1   Revenue  50415 non-null  float64\n",
      " 2   Uid      50415 non-null  uint64 \n",
      "dtypes: float64(1), object(1), uint64(1)\n",
      "memory usage: 1.2+ MB\n",
      "\n",
      "                     Buy Ts  Revenue                   Uid\n",
      "16403  2017-11-06 20:31:00     4.58   6160910069829701223\n",
      "1615   2017-06-18 21:58:00     8.33  10199368243688186982\n",
      "22459  2017-12-06 23:21:00     3.05   1677788919393072845\n",
      "17037  2017-11-11 14:11:00     0.98  14911467214388078081\n",
      "23371  2017-12-11 15:12:00     4.89  10340246027996293586\n",
      "\n",
      " Hay 0 valores duplicados\n"
     ]
    }
   ],
   "source": [
    "# información general de 'orders'\n",
    "orders.info()\n",
    "print('\\n', orders.sample(5))\n",
    "print('\\n', 'Hay', orders.duplicated().sum(), 'valores duplicados')"
   ]
  },
  {
   "cell_type": "code",
   "execution_count": null,
   "id": "807d853d",
   "metadata": {},
   "outputs": [
    {
     "name": "stdout",
     "output_type": "stream",
     "text": [
      "<class 'pandas.core.frame.DataFrame'>\n",
      "RangeIndex: 2542 entries, 0 to 2541\n",
      "Data columns (total 3 columns):\n",
      " #   Column     Non-Null Count  Dtype  \n",
      "---  ------     --------------  -----  \n",
      " 0   source_id  2542 non-null   int64  \n",
      " 1   dt         2542 non-null   object \n",
      " 2   costs      2542 non-null   float64\n",
      "dtypes: float64(1), int64(1), object(1)\n",
      "memory usage: 59.7+ KB\n",
      "\n",
      "       source_id          dt   costs\n",
      "2134          9  2018-04-17   11.50\n",
      "898           3  2017-11-20  106.78\n",
      "575           2  2017-12-30  158.27\n",
      "1145          4  2017-07-27  141.77\n",
      "1515          5  2017-08-03   64.27\n",
      "\n",
      " Hay 0 valores duplicados\n"
     ]
    }
   ],
   "source": [
    "# información general de 'costs'\n",
    "costs.info()\n",
    "print('\\n', costs.sample(5))\n",
    "print('\\n', 'Hay', costs.duplicated().sum(), 'valores duplicados')"
   ]
  },
  {
   "cell_type": "markdown",
   "id": "585efce6",
   "metadata": {},
   "source": [
    "### Comentario\n",
    "En ninguno de los DataFrames hay valores duplicados ni ausentes, solo hay que realizar algunas modificaciones en los nombres de las columnas y algunos tipos de datos.\n",
    "\n",
    "* **costs**\n",
    "  * Convertir “dt” a formato fecha\n",
    "* **orders**\n",
    "  * Convertir “buy ts” a formato fecha\n",
    "  * Convertir nombres de las columnas\n",
    "* **visits**\n",
    "  * Convertir “end ts” y “start ts” a formato fecha\n",
    "  * Convertir nombres de las columnas\n"
   ]
  },
  {
   "cell_type": "markdown",
   "id": "8096d47d",
   "metadata": {},
   "source": [
    "# Limpieza de datos"
   ]
  },
  {
   "cell_type": "code",
   "execution_count": null,
   "id": "faae214d",
   "metadata": {},
   "outputs": [],
   "source": [
    "# formato nombre de columnas\n",
    "orders.columns = orders.columns.str.replace(' ', '_').str.lower()\n",
    "visits.columns = visits.columns.str.replace(' ', '_').str.lower()\n"
   ]
  },
  {
   "cell_type": "code",
   "execution_count": null,
   "id": "57195e75",
   "metadata": {},
   "outputs": [],
   "source": [
    "# manejo de fechas\n",
    "costs['dt'] = pd.to_datetime(costs['dt'])\n",
    "orders['buy_ts'] = pd.to_datetime(orders['buy_ts'])\n",
    "visits['end_ts'] = pd.to_datetime(visits['end_ts'])\n",
    "visits['start_ts'] = pd.to_datetime(visits['start_ts'])"
   ]
  }
 ],
 "metadata": {
  "language_info": {
   "name": "python"
  }
 },
 "nbformat": 4,
 "nbformat_minor": 5
}
